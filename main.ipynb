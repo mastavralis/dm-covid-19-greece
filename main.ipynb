{
 "cells": [
  {
   "cell_type": "markdown",
   "metadata": {},
   "source": [
    "# SARS-COV-2  (COVID-19) Analysis & Prediction"
   ]
  },
  {
   "cell_type": "markdown",
   "metadata": {},
   "source": [
    "##### Author: Dionisis Mastavrslis\n",
    "     - Email:    dionisis.mastavralis@gmail.com\n",
    "     - GitHub:   https://github.com/mastavralis/dm-covid-19-greece\n",
    "     - License:  About the Analysis and Prediction Model: All Rights Reserved.\n",
    "\n",
    "###### About the DATA\n",
    "- Data Authority: JOHNS HOPKINS UNIVERSITY AND MEDICINE\n",
    "- Data Source: https://github.com/CSSEGISandData/COVID-19\n",
    "- Data renewal frequency: Daily at 23:59 by JOHNS HOPKINS\n",
    "\n",
    "\n",
    "+ Data Prediction Methods\n",
    "    - Linear Regression\n",
    "    - Polynomial Rregression\n",
    "\n",
    "###### Notes:\n",
    "* The analysis is customized to read, analyze and predict data only for Greece. However, changing the \"country\" parameter on In [139] the Model can fetch and analyze data for other countries as well, but with a probability of wrong data visualization or a\n",
    "malfunction of the Model. Thus, it is not recommended by the author to perform analysis for other countries but Greece.\n",
    "\n",
    "###### Daily Reports\n",
    "- For Reports & Predictions history, check the Readme.md File of the Repo.\n",
    "- Current Report [2020-04-14](https://github.com/mastavralis/dm-covid-19-greece/blob/master/14-4-2020-report/main.md)"
   ]
  },
  {
   "cell_type": "code",
   "execution_count": 67,
   "metadata": {},
   "outputs": [],
   "source": [
    "# import all the required libs\n",
    "import datetime\n",
    "import pandas as pd\n",
    "import numpy as np\n",
    "import matplotlib.pyplot as plt\n",
    "import seaborn as sns\n",
    "# To loop through all the csv files in the csse_covid_19_daily_reports folder\n",
    "import glob\n",
    "from __future__ import absolute_import, division, print_function, unicode_literals\n",
    "# Handle date time conversions between pandas and matplotlib\n",
    "from pandas.plotting import register_matplotlib_converters\n",
    "register_matplotlib_converters()"
   ]
  },
  {
   "cell_type": "markdown",
   "metadata": {},
   "source": [
    "### Create the Data frame from the Data set"
   ]
  },
  {
   "cell_type": "code",
   "execution_count": 68,
   "metadata": {},
   "outputs": [],
   "source": [
    "# Read all the csv files from the daily report folder\n",
    "files = glob.glob('../COVID-19_DATA/csse_covid_19_data/csse_covid_19_daily_reports/*.csv')\n",
    "\n",
    "daily_reports = []\n",
    "\n",
    "for fname in files:\n",
    "    # create a dataframe for every csv\n",
    "    df = pd.read_csv(fname, index_col=None, header=0)\n",
    "    # append dataframes into a new DF\n",
    "    daily_reports.append(df)\n",
    "\n",
    "# Concatenate the dataframes\n",
    "new_df = pd.concat(daily_reports, axis=0, ignore_index=True, sort=False)\n",
    "\n",
    "# Correct the Country/Region and Country_Region column issue into a new column 'Country'\n",
    "new_df.loc[new_df['Country_Region'].isnull() == True, 'Country'] = new_df['Country/Region']\n",
    "new_df.loc[new_df['Country/Region'].isnull() == True, 'Country'] = new_df['Country_Region']\n",
    "# Correct Last Update columns\n",
    "new_df.loc[new_df['Last Update'].isnull() == True, 'Date'] = new_df['Last_Update']\n",
    "new_df.loc[new_df['Last_Update'].isnull() == True, 'Date'] = new_df['Last Update']"
   ]
  },
  {
   "cell_type": "markdown",
   "metadata": {},
   "source": [
    "### Remove unnecessary columns"
   ]
  },
  {
   "cell_type": "code",
   "execution_count": 69,
   "metadata": {},
   "outputs": [],
   "source": [
    "new_df.drop(['Admin2', 'Combined_Key', 'Country/Region', \n",
    "             'Country_Region', 'FIPS', 'Lat', \n",
    "             'Latitude', 'Long_', 'Longitude', \n",
    "             'Province/State', 'Province_State'], axis=1, inplace=True)"
   ]
  },
  {
   "cell_type": "markdown",
   "metadata": {},
   "source": [
    "### Create DataFrame by country for Specific Analysis\n",
    "* About the compatible Countries, please advise the notes section of this Notebook"
   ]
  },
  {
   "cell_type": "markdown",
   "metadata": {},
   "source": [
    "#### Confirmed Cases\n",
    "* Greece is the default country. Changing country might break the anaysis model."
   ]
  },
  {
   "cell_type": "code",
   "execution_count": 70,
   "metadata": {},
   "outputs": [],
   "source": [
    "country = 'Greece'\n",
    "country_df = new_df.loc[new_df['Country'] == country]\n",
    "date_time = pd.to_datetime(country_df['Date'])\n",
    "# Remove the year from the DataFrme\n",
    "# months_only = date_time\n",
    "#months_only = months_only.astype(str).str.replace(\"2020-\", \"\").str.split().str[0]"
   ]
  },
  {
   "cell_type": "code",
   "execution_count": 71,
   "metadata": {
    "scrolled": true
   },
   "outputs": [
    {
     "data": {
      "image/png": "[encoded data removed]",
      "text/plain": [
       "<Figure size 432x288 with 1 Axes>"
      ]
     },
     "metadata": {},
     "output_type": "display_data"
    }
   ],
   "source": [
    "plt.xlabel('Date')\n",
    "plt.ylabel(\"Confirmed Cases\")\n",
    "plt.title(\"Confirmed Cases over Time\")\n",
    "# plt.plot(country_df['Confirmed'])\n",
    "plt.plot(date_time, country_df['Confirmed'])\n",
    "#set parameters for tick labels\n",
    "# plt.xticks(date_time, [str(i) for i in country_df['Confirmed'] ], rotation=90)\n",
    "plt.tick_params(axis='x', which='major', labelsize=9)\n",
    "plt.tight_layout()"
   ]
  },
  {
   "cell_type": "markdown",
   "metadata": {},
   "source": [
    "### Confrimed Cases so far"
   ]
  },
  {
   "cell_type": "code",
   "execution_count": 72,
   "metadata": {},
   "outputs": [
    {
     "name": "stdout",
     "output_type": "stream",
     "text": [
      "Confirmed Cases Today 2145.0:\n"
     ]
    }
   ],
   "source": [
    "current_day = country_df.iloc[[-1,]]\n",
    "print(\"Confirmed Cases Today {0}:\".format(current_day['Confirmed'].values[0]))"
   ]
  },
  {
   "cell_type": "markdown",
   "metadata": {},
   "source": [
    "### Deaths so far"
   ]
  },
  {
   "cell_type": "code",
   "execution_count": 73,
   "metadata": {},
   "outputs": [
    {
     "name": "stdout",
     "output_type": "stream",
     "text": [
      "Deaths Today 99.0:\n"
     ]
    }
   ],
   "source": [
    "current_day = country_df.iloc[[-1,]]\n",
    "print(\"Deaths Today {0}:\".format(current_day['Deaths'].values[0]))"
   ]
  },
  {
   "cell_type": "markdown",
   "metadata": {},
   "source": [
    "### Deaths and Death Ratio"
   ]
  },
  {
   "cell_type": "code",
   "execution_count": 74,
   "metadata": {
    "scrolled": true
   },
   "outputs": [
    {
     "data": {
      "image/png": "[encoded data removed]",
      "text/plain": [
       "<Figure size 432x288 with 1 Axes>"
      ]
     },
     "metadata": {},
     "output_type": "display_data"
    }
   ],
   "source": [
    "plt.xlabel('Confirmed Cases')\n",
    "plt.ylabel(\"Deaths\")\n",
    "plt.title(\"Confirmed Deaths over Confirmed Cases\")\n",
    "plt.plot(country_df['Confirmed'], country_df['Deaths'])\n",
    "plt.show()"
   ]
  },
  {
   "cell_type": "markdown",
   "metadata": {},
   "source": [
    "### Mortality Rate"
   ]
  },
  {
   "cell_type": "code",
   "execution_count": 75,
   "metadata": {},
   "outputs": [],
   "source": [
    "# Death Ratio\n",
    "# Always get the last Row of the dataframe\n",
    "deaths = country_df.loc[country_df.index[-1], \"Deaths\"]\n",
    "cases = country_df.loc[country_df.index[-1], \"Confirmed\"]\n",
    "dr = round((deaths / cases) * 100, 2)\n",
    "#print('Mortality Rate is: ', dr, '%')"
   ]
  },
  {
   "cell_type": "markdown",
   "metadata": {},
   "source": [
    "### Cases vs Deaths"
   ]
  },
  {
   "cell_type": "code",
   "execution_count": 76,
   "metadata": {},
   "outputs": [
    {
     "data": {
      "image/png": "[encoded data removed]",
      "text/plain": [
       "<Figure size 432x288 with 1 Axes>"
      ]
     },
     "metadata": {},
     "output_type": "display_data"
    }
   ],
   "source": [
    "# Pie Chart to show the Mortality rate\n",
    "labels = [\"Cases\", \"Deaths\"]\n",
    "sizes = [cases, deaths]\n",
    "explode = (0, 0.1) # only \"explode\" in the seconds slice \"Deaths\"\n",
    "fig1, ax1 = plt.subplots()\n",
    "ax1.pie(sizes, explode=explode, labels=labels, autopct='%1.1f%%',\n",
    "       shadow=True, startangle=90)\n",
    "ax1.axis('equal') # Equal aspect ratio ensures that pie is drawn as a circle.\n",
    "plt.show()"
   ]
  },
  {
   "cell_type": "markdown",
   "metadata": {},
   "source": [
    "### Active Cases vs Recovered"
   ]
  },
  {
   "cell_type": "code",
   "execution_count": 77,
   "metadata": {},
   "outputs": [
    {
     "data": {
      "image/png": "[encoded data removed]",
      "text/plain": [
       "<Figure size 432x288 with 1 Axes>"
      ]
     },
     "metadata": {},
     "output_type": "display_data"
    }
   ],
   "source": [
    "recovered = country_df.loc[country_df.index[-1], \"Recovered\"]\n",
    "active = country_df.loc[country_df.index[-1], \"Active\"]\n",
    "#\n",
    "labels = [\"Active Cases\", \"Recovered\"]\n",
    "sizes = [active, recovered]\n",
    "explode = (0, 0.1) # only \"explode\" in the seconds slice \"Recoverd\"\n",
    "fig1, ax1 = plt.subplots()\n",
    "ax1.pie(sizes, explode=explode, labels=labels, autopct='%1.1f%%',\n",
    "       shadow=True, startangle=90)\n",
    "ax1.axis('equal') # Equal aspect ratio ensures that pie is drawn as a circle.\n",
    "plt.show()"
   ]
  },
  {
   "cell_type": "markdown",
   "metadata": {},
   "source": [
    "### Show the Daily Cases"
   ]
  },
  {
   "cell_type": "code",
   "execution_count": 78,
   "metadata": {},
   "outputs": [
    {
     "data": {
      "image/png": "[encoded data removed]",
      "text/plain": [
       "<Figure size 432x288 with 1 Axes>"
      ]
     },
     "metadata": {},
     "output_type": "display_data"
    }
   ],
   "source": [
    "# In case we want to added to the country_df DataFrame\n",
    "daily_cases = [y - x for x,y in zip(country_df['Confirmed'],country_df['Confirmed'][1:])]\n",
    "# Append on more record in orde to have the same size and shape\n",
    "# daily_cases.append(0)\n",
    "\n",
    "plt.xlabel('Days From the Beginning of the 1st Case')\n",
    "plt.ylabel('Daily New Cases')\n",
    "plt.title(\"New Cases Daily over Days\")\n",
    "plt.plot(daily_cases)\n",
    "plt.show()"
   ]
  },
  {
   "cell_type": "markdown",
   "metadata": {},
   "source": [
    "### Perform a very simple Prediction With Machine Learning\n",
    "- Since Epidemics are not Linear, we are using Polynomial Regression"
   ]
  },
  {
   "cell_type": "markdown",
   "metadata": {},
   "source": [
    "#### Fit Cases Model"
   ]
  },
  {
   "cell_type": "code",
   "execution_count": 79,
   "metadata": {},
   "outputs": [
    {
     "data": {
      "image/png": "[encoded data removed]",
      "text/plain": [
       "<Figure size 432x288 with 1 Axes>"
      ]
     },
     "metadata": {},
     "output_type": "display_data"
    }
   ],
   "source": [
    "from sklearn.linear_model import LinearRegression \n",
    "from sklearn.preprocessing import PolynomialFeatures \n",
    "\n",
    "# Days\n",
    "X = np.arange(1, len(daily_cases)+2).reshape(-1,1)\n",
    "y = country_df['Confirmed']\n",
    "\n",
    "poly = PolynomialFeatures(degree = 4) \n",
    "X_poly = poly.fit_transform(X) \n",
    "\n",
    "poly.fit(X_poly, y) \n",
    "lin2 = LinearRegression() \n",
    "lin2.fit(X_poly, y) \n",
    "\n",
    "# Visualising the Polynomial Regression results \n",
    "plt.scatter(X, y, color = 'blue') \n",
    "  \n",
    "plt.plot(X, lin2.predict(poly.fit_transform(X)), color = 'red') \n",
    "plt.title('Polynomial Regression over Days') \n",
    "plt.xlabel('Days') \n",
    "plt.ylabel('Confirmed Cases')\n",
    "plt.show()"
   ]
  },
  {
   "cell_type": "markdown",
   "metadata": {},
   "source": [
    "#### Predict Cases Model"
   ]
  },
  {
   "cell_type": "code",
   "execution_count": 80,
   "metadata": {},
   "outputs": [
    {
     "data": {
      "image/png": "[encoded data removed]",
      "text/plain": [
       "<Figure size 432x288 with 1 Axes>"
      ]
     },
     "metadata": {},
     "output_type": "display_data"
    }
   ],
   "source": [
    "current_day = len(country_df)\n",
    "days = np.arange(current_day, 55)\n",
    "pred = []\n",
    "next_days = []\n",
    "\n",
    "for i in days:\n",
    "    next_days.append( lin2.predict(poly.fit_transform([[i]])) )\n",
    "\n",
    "\n",
    "X = days\n",
    "y = next_days\n",
    "\n",
    "# Visualising the Polynomial Regression results \n",
    "plt.scatter(X, y, color = 'blue')\n",
    "\n",
    "plt.title('Caeses Prediction over the Next Days') \n",
    "plt.xlabel('Next Days')\n",
    "plt.ylabel('Predicted Cases')\n",
    "plt.show()"
   ]
  },
  {
   "cell_type": "markdown",
   "metadata": {},
   "source": [
    "###### Predict Cases for Tomorrow (or for a specific Day)"
   ]
  },
  {
   "cell_type": "code",
   "execution_count": 81,
   "metadata": {},
   "outputs": [],
   "source": [
    "# Predicting a new result with Polynomial Regression\n",
    "# \"next_day\" is for today otherwise use an interget number greater tha today day\n",
    "next_day = len(country_df)+1\n",
    "prediction = lin2.predict(poly.fit_transform([[next_day]]))\n",
    "today = datetime.date.today()\n",
    "# Print the Predicted number rounded\n",
    "# output0 = \"Total Cases Prediction today {0} is {1}\".format(today,int(prediction[0]))\n",
    "output0 = int(prediction[0])"
   ]
  },
  {
   "cell_type": "code",
   "execution_count": 82,
   "metadata": {},
   "outputs": [],
   "source": [
    "prediction = lin2.predict(poly.fit_transform([[next_day+1]]))\n",
    "tomorrow = today + datetime.timedelta(days=1)\n",
    "# Print the Predicted number rounded\n",
    "# output1 = \"Total Cases Prediction tomorrow {0} is {1}\".format(tomorrow,int(prediction[0]))\n",
    "output1 = int(prediction[0])"
   ]
  },
  {
   "cell_type": "markdown",
   "metadata": {},
   "source": [
    "#### Fit Deaths Model"
   ]
  },
  {
   "cell_type": "code",
   "execution_count": 83,
   "metadata": {},
   "outputs": [
    {
     "data": {
      "image/png": "[encoded data removed]",
      "text/plain": [
       "<Figure size 432x288 with 1 Axes>"
      ]
     },
     "metadata": {},
     "output_type": "display_data"
    }
   ],
   "source": [
    "# Days\n",
    "X = np.arange(1, len(daily_cases)+2).reshape(-1,1)\n",
    "y = country_df['Deaths']\n",
    "\n",
    "poly = PolynomialFeatures(degree = 4) \n",
    "X_poly = poly.fit_transform(X) \n",
    "\n",
    "poly.fit(X_poly, y) \n",
    "lin2 = LinearRegression() \n",
    "lin2.fit(X_poly, y) \n",
    "\n",
    "# Visualising the Polynomial Regression results \n",
    "plt.scatter(X, y, color = 'blue') \n",
    "  \n",
    "plt.plot(X, lin2.predict(poly.fit_transform(X)), color = 'red') \n",
    "plt.title('Polynomial Regression') \n",
    "plt.xlabel('Days') \n",
    "plt.ylabel('Deaths')\n",
    "plt.show()"
   ]
  },
  {
   "cell_type": "markdown",
   "metadata": {},
   "source": [
    "#### Predict Deaths Model"
   ]
  },
  {
   "cell_type": "code",
   "execution_count": 84,
   "metadata": {},
   "outputs": [
    {
     "data": {
      "image/png": "[encoded data removed]",
      "text/plain": [
       "<Figure size 432x288 with 1 Axes>"
      ]
     },
     "metadata": {},
     "output_type": "display_data"
    }
   ],
   "source": [
    "days = np.arange(current_day,60)\n",
    "pred = []\n",
    "next_days = []\n",
    "\n",
    "for i in days:\n",
    "    next_days.append( lin2.predict(poly.fit_transform([[i]])) )\n",
    "\n",
    "\n",
    "X = days\n",
    "y = next_days\n",
    "\n",
    "# Visualising the Polynomial Regression results \n",
    "plt.scatter(X, y, color = 'blue')\n",
    "\n",
    "plt.title('Deaths Prediction over Next Days') \n",
    "plt.xlabel('Next Days')\n",
    "plt.ylabel('Predicted Deaths')\n",
    "plt.show()"
   ]
  },
  {
   "cell_type": "markdown",
   "metadata": {},
   "source": [
    "###### Predict Deaths for Tomorrow (or for a specific Day)"
   ]
  },
  {
   "cell_type": "code",
   "execution_count": 85,
   "metadata": {},
   "outputs": [],
   "source": [
    "# Predicting a new result with Polynomial Regression\n",
    "# \"next_day\" is for today otherwise use an interget number greater tha today day\n",
    "next_day = len(country_df)+1\n",
    "prediction = lin2.predict(poly.fit_transform([[next_day]]))\n",
    "today = datetime.date.today()\n",
    "# Print the Predicted number rounded\n",
    "# output2 = \"Total Deaths Prediction today {0} is {1}\".format(today,int(prediction[0]))\n",
    "output2 = int(prediction[0])"
   ]
  },
  {
   "cell_type": "code",
   "execution_count": 86,
   "metadata": {},
   "outputs": [],
   "source": [
    "prediction = lin2.predict(poly.fit_transform([[next_day+1]]))\n",
    "tomorrow = today + datetime.timedelta(days=1)\n",
    "output3 = \"Total Deaths Prediction tomorrow {0} is {1}\".format(tomorrow,int(prediction[0]))\n",
    "output3 = int(prediction[0])"
   ]
  },
  {
   "cell_type": "markdown",
   "metadata": {},
   "source": [
    "# Model Accuracy Evaluation"
   ]
  },
  {
   "cell_type": "code",
   "execution_count": 87,
   "metadata": {
    "scrolled": true
   },
   "outputs": [
    {
     "data": {
      "text/html": [
       "<div>\n",
       "<style scoped>\n",
       "    .dataframe tbody tr th:only-of-type {\n",
       "        vertical-align: middle;\n",
       "    }\n",
       "\n",
       "    .dataframe tbody tr th {\n",
       "        vertical-align: top;\n",
       "    }\n",
       "\n",
       "    .dataframe thead th {\n",
       "        text-align: right;\n",
       "    }\n",
       "</style>\n",
       "<table border=\"1\" class=\"dataframe\">\n",
       "  <thead>\n",
       "    <tr style=\"text-align: right;\">\n",
       "      <th></th>\n",
       "      <th>Date</th>\n",
       "      <th>Actual Cases</th>\n",
       "      <th>Cases Prediction</th>\n",
       "      <th>Cases Accuracy</th>\n",
       "      <th>Actual Deaths</th>\n",
       "      <th>Deaths Prediction</th>\n",
       "      <th>Deaths Accuracy</th>\n",
       "    </tr>\n",
       "  </thead>\n",
       "  <tbody>\n",
       "    <tr>\n",
       "      <th>0</th>\n",
       "      <td>5/4/2020</td>\n",
       "      <td>1735.0</td>\n",
       "      <td>1804</td>\n",
       "      <td>0.96</td>\n",
       "      <td>73.0</td>\n",
       "      <td>74</td>\n",
       "      <td>0.99</td>\n",
       "    </tr>\n",
       "    <tr>\n",
       "      <th>1</th>\n",
       "      <td>6/4/2020</td>\n",
       "      <td>1755.0</td>\n",
       "      <td>1865</td>\n",
       "      <td>0.94</td>\n",
       "      <td>79.0</td>\n",
       "      <td>79</td>\n",
       "      <td>1.00</td>\n",
       "    </tr>\n",
       "    <tr>\n",
       "      <th>2</th>\n",
       "      <td>7/4/2020</td>\n",
       "      <td>1832.0</td>\n",
       "      <td>1891</td>\n",
       "      <td>0.97</td>\n",
       "      <td>81.0</td>\n",
       "      <td>85</td>\n",
       "      <td>0.95</td>\n",
       "    </tr>\n",
       "    <tr>\n",
       "      <th>3</th>\n",
       "      <td>8/4/2020</td>\n",
       "      <td>1884.0</td>\n",
       "      <td>1929</td>\n",
       "      <td>0.98</td>\n",
       "      <td>83.0</td>\n",
       "      <td>89</td>\n",
       "      <td>0.93</td>\n",
       "    </tr>\n",
       "    <tr>\n",
       "      <th>4</th>\n",
       "      <td>9/4/2020</td>\n",
       "      <td>1955.0</td>\n",
       "      <td>1963</td>\n",
       "      <td>0.99</td>\n",
       "      <td>86.0</td>\n",
       "      <td>91</td>\n",
       "      <td>0.94</td>\n",
       "    </tr>\n",
       "    <tr>\n",
       "      <th>5</th>\n",
       "      <td>10/4/2020</td>\n",
       "      <td>2011.0</td>\n",
       "      <td>2005</td>\n",
       "      <td>0.99</td>\n",
       "      <td>90.0</td>\n",
       "      <td>94</td>\n",
       "      <td>0.96</td>\n",
       "    </tr>\n",
       "    <tr>\n",
       "      <th>6</th>\n",
       "      <td>11/4/2020</td>\n",
       "      <td>2083.0</td>\n",
       "      <td>2045</td>\n",
       "      <td>0.98</td>\n",
       "      <td>93.0</td>\n",
       "      <td>97</td>\n",
       "      <td>0.96</td>\n",
       "    </tr>\n",
       "    <tr>\n",
       "      <th>7</th>\n",
       "      <td>12/4/2020</td>\n",
       "      <td>2114.0</td>\n",
       "      <td>2093</td>\n",
       "      <td>0.99</td>\n",
       "      <td>98.0</td>\n",
       "      <td>98</td>\n",
       "      <td>1.00</td>\n",
       "    </tr>\n",
       "    <tr>\n",
       "      <th>8</th>\n",
       "      <td>13/4/2020</td>\n",
       "      <td>2145.0</td>\n",
       "      <td>2128</td>\n",
       "      <td>0.99</td>\n",
       "      <td>99.0</td>\n",
       "      <td>101</td>\n",
       "      <td>0.98</td>\n",
       "    </tr>\n",
       "  </tbody>\n",
       "</table>\n",
       "</div>"
      ],
      "text/plain": [
       "        Date  Actual Cases  Cases Prediction  Cases Accuracy  Actual Deaths  \\\n",
       "0   5/4/2020        1735.0              1804            0.96           73.0   \n",
       "1   6/4/2020        1755.0              1865            0.94           79.0   \n",
       "2   7/4/2020        1832.0              1891            0.97           81.0   \n",
       "3   8/4/2020        1884.0              1929            0.98           83.0   \n",
       "4   9/4/2020        1955.0              1963            0.99           86.0   \n",
       "5  10/4/2020        2011.0              2005            0.99           90.0   \n",
       "6  11/4/2020        2083.0              2045            0.98           93.0   \n",
       "7  12/4/2020        2114.0              2093            0.99           98.0   \n",
       "8  13/4/2020        2145.0              2128            0.99           99.0   \n",
       "\n",
       "   Deaths Prediction  Deaths Accuracy  \n",
       "0                 74             0.99  \n",
       "1                 79             1.00  \n",
       "2                 85             0.95  \n",
       "3                 89             0.93  \n",
       "4                 91             0.94  \n",
       "5                 94             0.96  \n",
       "6                 97             0.96  \n",
       "7                 98             1.00  \n",
       "8                101             0.98  "
      ]
     },
     "execution_count": 87,
     "metadata": {},
     "output_type": "execute_result"
    }
   ],
   "source": [
    "accur_df = pd.read_csv('dataset/model-accuracy-evaluation.csv', error_bad_lines=False)\n",
    "accur_df.head(len(accur_df)-1)"
   ]
  },
  {
   "cell_type": "code",
   "execution_count": 88,
   "metadata": {},
   "outputs": [],
   "source": [
    "cases_accur = accur_df['Cases Accuracy'] * 100\n",
    "deaths_accur = accur_df['Deaths Accuracy'] * 100\n",
    "cases_evaluation = round(cases_accur.sum()/(len(accur_df)-1), 2)\n",
    "deaths_evaluation = round(deaths_accur.sum()/(len(accur_df)-1), 2)\n",
    "\n",
    "eval_df = pd.DataFrame(np.array([[cases_evaluation, deaths_evaluation]]),\n",
    "                   columns=['Cases Prediction Accuracy', 'Deaths Prediction Accuracy'])\n",
    "\n",
    "output4 = cases_evaluation.astype(str) + ' %'\n",
    "output5 = deaths_evaluation.astype(str) + ' %'"
   ]
  },
  {
   "cell_type": "markdown",
   "metadata": {
    "variables": {
     "output4": "97.67 %",
     "output5": "96.78 %"
    }
   },
   "source": [
    "## Total Model Prediction Accuracy\n",
    "\n",
    "  + Cases Prediction Accuracy:  **{{output4}}**\n",
    "  + Deaths Prediction Accuracy: **{{output5}}**"
   ]
  },
  {
   "cell_type": "markdown",
   "metadata": {},
   "source": [
    "## New Predictions (2020-04-14)"
   ]
  },
  {
   "cell_type": "markdown",
   "metadata": {
    "variables": {
     "output0": "2152",
     "output1": "2159",
     "output2": "102",
     "output3": "103"
    }
   },
   "source": [
    "#### Total Cases Prediction\n",
    "\n",
    "  + Today: **{{output0}}**\n",
    "  + Tomorrow: **{{output1}}**\n",
    "  \n",
    "  \n",
    "#### Total Death Prediction\n",
    "\n",
    "  + Today: **{{output2}}**\n",
    "  + Tomorrow: **{{output3}}**"
   ]
  },
  {
   "cell_type": "markdown",
   "metadata": {},
   "source": [
    "##### Reports History\n",
    "- [Reports Hisory](https://github.com/mastavralis/dm-covid-19-greece/blob/master/README.md/#daily-reports)"
   ]
  },
  {
   "cell_type": "code",
   "execution_count": null,
   "metadata": {},
   "outputs": [],
   "source": []
  }
 ],
 "metadata": {
  "kernelspec": {
   "display_name": "Python 3",
   "language": "python",
   "name": "python3"
  },
  "language_info": {
   "codemirror_mode": {
    "name": "ipython",
    "version": 3
   },
   "file_extension": ".py",
   "mimetype": "text/x-python",
   "name": "python",
   "nbconvert_exporter": "python",
   "pygments_lexer": "ipython3",
   "version": "3.5.5"
  }
 },
 "nbformat": 4,
 "nbformat_minor": 2
}
